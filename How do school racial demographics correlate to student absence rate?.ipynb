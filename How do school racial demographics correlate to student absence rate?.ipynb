{
 "cells": [
  {
   "cell_type": "markdown",
   "id": "7524b51d",
   "metadata": {},
   "source": [
    "            How do school racial demographics correlate to student absence rate?\n",
    "\n",
    "Introduction:\n",
    "    New York City Public Schools are the largest public school system in the United States. As such, large datasets about all kinds of variables are created in order to facilitate the optimal education for all students. The data is publicly available and compiled by PASSNYC, a non-profit dedicated to broadening educational opportunities for New York City students. \n",
    "    In this project I am using data from this compiled dataset in order to answer the question \"How do school racial demographics correlate to student absence rate?\". To answer this question, I am..."
   ]
  },
  {
   "cell_type": "markdown",
   "id": "6d2a4d03",
   "metadata": {},
   "source": [
    "#explain why I picked these variables "
   ]
  },
  {
   "cell_type": "markdown",
   "id": "530fea9c",
   "metadata": {},
   "source": [
    "Data Cleaning:"
   ]
  },
  {
   "cell_type": "code",
   "execution_count": 2,
   "id": "46f5fdf6",
   "metadata": {},
   "outputs": [],
   "source": [
    "#import all software needed\n",
    "import pandas as pd\n",
    "import numpy as np\n",
    "import random\n",
    "import matplotlib.pyplot as plt\n",
    "%matplotlib inline"
   ]
  },
  {
   "cell_type": "code",
   "execution_count": 5,
   "id": "882a3ca3",
   "metadata": {},
   "outputs": [],
   "source": [
    "#read in data\n",
    "df = pd.read_csv('2016 School Explorer.csv')"
   ]
  },
  {
   "cell_type": "code",
   "execution_count": 14,
   "id": "53089811",
   "metadata": {},
   "outputs": [
    {
     "name": "stdout",
     "output_type": "stream",
     "text": [
      "Null values in 'Percent Asian': False\n",
      "Null values in 'Percent Black': False\n",
      "Null values in 'Percent Hispanic': False\n",
      "Null values in 'Percent Black / Hispanic': False\n",
      "Null values in 'Percent White': False\n",
      "Null values in 'Student Attendance Rate': True\n",
      "Null values in 'Percent of Students Chronically Absent': True\n"
     ]
    }
   ],
   "source": [
    "#check data for null variables in relevant columns\n",
    "\n",
    "#check for null variables in \"Percent Asian\" column\n",
    "null_in_percent_asian = df['Percent Asian'].isnull().any()\n",
    "print(f\"Null values in 'Percent Asian': {null_in_percent_asian}\")\n",
    "\n",
    "#check for null variables in \"Percent Black\" column\n",
    "null_in_percent_black = df['Percent Black'].isnull().any()\n",
    "print(f\"Null values in 'Percent Black': {null_in_percent_black}\")\n",
    "\n",
    "#check for null variables in \"Percent Hispanic\" column\n",
    "null_in_percent_hispanic = df['Percent Hispanic'].isnull().any()\n",
    "print(f\"Null values in 'Percent Hispanic': {null_in_percent_hispanic}\")\n",
    "\n",
    "#check for null variables in \"Percent Black / Hispanic\" column\n",
    "null_in_percent_black_and_hispanic = df['Percent Black / Hispanic'].isnull().any()\n",
    "print(f\"Null values in 'Percent Black / Hispanic': {null_in_percent_black_and_hispanic}\")\n",
    "\n",
    "#check for null variables in \"Percent White\" column\n",
    "null_in_percent_white = df['Percent White'].isnull().any()\n",
    "print(f\"Null values in 'Percent White': {null_in_percent_white}\")\n",
    "\n",
    "#check for null variables in \"Student Attendance Rate\" column\n",
    "null_in_student_attendance_rate = df['Student Attendance Rate'].isnull().any()\n",
    "print(f\"Null values in 'Student Attendance Rate': {null_in_student_attendance_rate}\")\n",
    "\n",
    "#check for null variables in \"Percent of Students Chronically Absent\" column\n",
    "null_in_percent_chronically_absent = df['Percent of Students Chronically Absent'].isnull().any()\n",
    "print(f\"Null values in 'Percent of Students Chronically Absent': {null_in_percent_chronically_absent}\")"
   ]
  },
  {
   "cell_type": "code",
   "execution_count": 17,
   "id": "1e4a46c6",
   "metadata": {},
   "outputs": [],
   "source": [
    "#eliminate rows with null variables\n",
    "df = df.dropna(subset=['Student Attendance Rate', 'Percent of Students Chronically Absent'])"
   ]
  },
  {
   "cell_type": "code",
   "execution_count": 21,
   "id": "2aa9cbd0",
   "metadata": {},
   "outputs": [
    {
     "name": "stdout",
     "output_type": "stream",
     "text": [
      "       Percent Asian Percent Black Percent Hispanic Percent Black / Hispanic  \\\n",
      "count           1247          1247             1247                     1247   \n",
      "unique            84            98               99                       98   \n",
      "top               1%            1%              11%                      97%   \n",
      "freq             253            84               34                      119   \n",
      "\n",
      "       Percent White Student Attendance Rate  \\\n",
      "count           1247                    1247   \n",
      "unique            88                      18   \n",
      "top               1%                     95%   \n",
      "freq             329                     213   \n",
      "\n",
      "       Percent of Students Chronically Absent  \n",
      "count                                    1247  \n",
      "unique                                     59  \n",
      "top                                       10%  \n",
      "freq                                       56  \n"
     ]
    }
   ],
   "source": [
    "#create summary statistics table\n",
    "relevant_columns = ['Percent Asian', 'Percent Black', 'Percent Hispanic', 'Percent Black / Hispanic','Percent White', 'Student Attendance Rate', 'Percent of Students Chronically Absent']\n",
    "summary_stats = df[relevant_columns].describe()\n",
    "print(summary_stats)\n",
    "\n",
    "#format this correctly and add better/more statistics"
   ]
  },
  {
   "cell_type": "code",
   "execution_count": null,
   "id": "ec1348c2",
   "metadata": {},
   "outputs": [],
   "source": []
  }
 ],
 "metadata": {
  "kernelspec": {
   "display_name": "Python 3 (ipykernel)",
   "language": "python",
   "name": "python3"
  },
  "language_info": {
   "codemirror_mode": {
    "name": "ipython",
    "version": 3
   },
   "file_extension": ".py",
   "mimetype": "text/x-python",
   "name": "python",
   "nbconvert_exporter": "python",
   "pygments_lexer": "ipython3",
   "version": "3.11.6"
  }
 },
 "nbformat": 4,
 "nbformat_minor": 5
}
