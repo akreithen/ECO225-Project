{
 "cells": [
  {
   "cell_type": "markdown",
   "id": "8061f2ff",
   "metadata": {},
   "source": [
    "#                                        Why are Students Absent?"
   ]
  },
  {
   "cell_type": "markdown",
   "id": "b7fb4637",
   "metadata": {},
   "source": [
    "### Introduction"
   ]
  },
  {
   "cell_type": "markdown",
   "id": "7524b51d",
   "metadata": {},
   "source": [
    "    New York City Public Schools are the largest public school system in the United States. As such, large datasets about all kinds of relevant topics are compiled every year in order to facilitate the best possible education for all New York City public school students. The data is publicly available and compiled by PASSNYC, a non-profit dedicated to broadening educational opportunities for New York City students. The dataset being used for this project is from 2016 called \"2016 School Explorer\". It contains data from 1270 New York City public that serve students from Kindergarten to grade eight. Based on the structuring of New York City public schools, this means that the data does not include high schools. The data contains information on schools, their location, the background of their students, and how they perform on New York State standardized tests. All data is based on averages among each school.\n",
    "    In this project the data is being used to answer the question \"Why are students absent?\". This is a pertinent question for today's schools. Only recently, in 2016, did the US Department of Education release data for chronic absenteeism. It has not been tracked in aggregate so there is little research available to understand chronic absenteeism. Much of the current research on the topic is about its affects on students. This paper seeks instead to understand why chronic absenteeism occurs.\n",
    "    TALK ABOUT RESULTS"
   ]
  },
  {
   "cell_type": "markdown",
   "id": "ab9d28c5",
   "metadata": {},
   "source": [
    "### Variables"
   ]
  },
  {
   "cell_type": "markdown",
   "id": "6d2a4d03",
   "metadata": {},
   "source": [
    "    The X variables being used in this project are an economic need index, average ELA proficiency, average math proficiency, trust percentage, and strong family-community ties percentage. The economic need index is a number 0-1 with the lowest economic need being 0 and highest being 1. It is calculated using a formula using data from the percentage of students in temporary housing, eligibility for HRA, a New York City social services program, and reduced cost lunch provided to students with low income. Additionally, I am using the average ELA and Math proficiency for each school. This is measured through New York State standardized testing where anything above a score of 3 is a pass. Trust percentage is a survey-based statistic that reflects if relationships between students, families, and teachers is based on respect and trust. Similarly, strong family-community ties percentage is a rating that reflects how well the school forms partnerships with families and the community it serves. Percent of students chronically absent is the Y variable, and it measures the percent of students in every school that miss ten percent or more of school in the given year. \n",
    "\n",
    "    These variables give the most complete picture of a students background, integral for understanding chronic absenteeism. The economic need of a student could have an impact on whether or not the student comes to school as the student might have limited access to school supplies, reliable transportation, and time away from dependents. Additionally, average ELA and math test scores help to understand the academic background of the child. The trust a student and family has in their teachers could be a factor in whether or not they come to school. A lack of trust could lead to a poor sense of belonging for the student, leaading them not to attend school. Lastly, whether or not the school has strong ties with the community can affect a student's ability to come to school due to social services working with the school and ensuring relevance of teaching topics. \n",
    "    \n",
    "    Edit last bit of the last paragraph, ask TA what of this is needed "
   ]
  },
  {
   "cell_type": "markdown",
   "id": "530fea9c",
   "metadata": {},
   "source": [
    "### Data Cleaning/Loading"
   ]
  },
  {
   "cell_type": "code",
   "execution_count": 36,
   "id": "46f5fdf6",
   "metadata": {},
   "outputs": [],
   "source": [
    "#import all software needed\n",
    "import pandas as pd\n",
    "import numpy as np\n",
    "import random\n",
    "import matplotlib.pyplot as plt\n",
    "%matplotlib inline\n",
    "from scipy import stats"
   ]
  },
  {
   "cell_type": "code",
   "execution_count": 37,
   "id": "882a3ca3",
   "metadata": {},
   "outputs": [],
   "source": [
    "#read in data\n",
    "df = pd.read_csv('2016 School Explorer.csv')"
   ]
  },
  {
   "cell_type": "code",
   "execution_count": 38,
   "id": "53089811",
   "metadata": {},
   "outputs": [
    {
     "name": "stdout",
     "output_type": "stream",
     "text": [
      "Economic Need Index                       True\n",
      "Average ELA Proficiency                   True\n",
      "Average Math Proficiency                  True\n",
      "Trust %                                   True\n",
      "Strong Family-Community Ties %            True\n",
      "Percent of Students Chronically Absent    True\n",
      "dtype: bool\n",
      "Economic Need Index                       float64\n",
      "Average ELA Proficiency                   float64\n",
      "Average Math Proficiency                  float64\n",
      "Trust %                                    object\n",
      "Strong Family-Community Ties %             object\n",
      "Percent of Students Chronically Absent     object\n",
      "dtype: object\n"
     ]
    }
   ],
   "source": [
    "relevant_columns = ['Economic Need Index', 'Average ELA Proficiency', 'Average Math Proficiency', 'Trust %', 'Strong Family-Community Ties %', 'Percent of Students Chronically Absent']\n",
    "\n",
    "#replace \"N/A\" to a null variable for relevant columns that contain \"N/A\"\n",
    "df.replace('N/A', np.nan, inplace=True)\n",
    "\n",
    "#check data for null variables in relevant columns\n",
    "print(df[relevant_columns].isnull().any())\n",
    "\n",
    "#check data for type\n",
    "print(df[relevant_columns].dtypes)"
   ]
  },
  {
   "cell_type": "code",
   "execution_count": 39,
   "id": "1e4a46c6",
   "metadata": {},
   "outputs": [],
   "source": [
    "columns_to_change = ['Trust %', 'Strong Family-Community Ties %', 'Student Attendance Rate', 'Percent of Students Chronically Absent']\n",
    "\n",
    "#eliminate rows with null variables in relevant columns\n",
    "df.dropna(subset=columns_to_change, inplace=True)\n",
    "\n",
    "#convert columns to float values\n",
    "df[columns_to_change] = df[columns_to_change].apply(lambda x: x.str.rstrip('%').astype('float') / 100.0)\n",
    "\n",
    "#create table with all relevant variables\n",
    "relevant_columns_table = df[relevant_columns]\n",
    "\n",
    "#measure skewness\n",
    "skew_values = relevant_columns_table[relevant_columns].skew()\n",
    "skew_values\n",
    "\n",
    "#create table with all relevant variables\n",
    "relevant_columns_table = df[relevant_columns]"
   ]
  },
  {
   "cell_type": "code",
   "execution_count": 40,
   "id": "4366952b",
   "metadata": {
    "scrolled": true
   },
   "outputs": [
    {
     "data": {
      "text/plain": [
       "Economic Need Index                        True\n",
       "Average ELA Proficiency                   False\n",
       "Average Math Proficiency                  False\n",
       "Trust %                                    True\n",
       "Strong Family-Community Ties %             True\n",
       "Percent of Students Chronically Absent     True\n",
       "dtype: bool"
      ]
     },
     "execution_count": 40,
     "metadata": {},
     "output_type": "execute_result"
    }
   ],
   "source": [
    "#check for outliers \n",
    "\n",
    "z_scores = stats.zscore(relevant_columns_table, axis=0)\n",
    "threshold = 2.58\n",
    "outliers = (z_scores > threshold) | (z_scores < -threshold)\n",
    "outliers_in_columns = outliers.any()\n",
    "outliers_in_columns"
   ]
  },
  {
   "cell_type": "markdown",
   "id": "1cc2c8c9",
   "metadata": {},
   "source": [
    "### Summary Statistics Tables"
   ]
  },
  {
   "cell_type": "code",
   "execution_count": 86,
   "id": "ec1348c2",
   "metadata": {},
   "outputs": [
    {
     "name": "stdout",
     "output_type": "stream",
     "text": [
      "\n",
      "Summary Statistics\n"
     ]
    },
    {
     "data": {
      "text/html": [
       "<div>\n",
       "<style scoped>\n",
       "    .dataframe tbody tr th:only-of-type {\n",
       "        vertical-align: middle;\n",
       "    }\n",
       "\n",
       "    .dataframe tbody tr th {\n",
       "        vertical-align: top;\n",
       "    }\n",
       "\n",
       "    .dataframe thead th {\n",
       "        text-align: right;\n",
       "    }\n",
       "</style>\n",
       "<table border=\"1\" class=\"dataframe\">\n",
       "  <thead>\n",
       "    <tr style=\"text-align: right;\">\n",
       "      <th></th>\n",
       "      <th>Economic Need Index</th>\n",
       "      <th>Average ELA Proficiency</th>\n",
       "      <th>Average Math Proficiency</th>\n",
       "      <th>Trust %</th>\n",
       "      <th>Strong Family-Community Ties %</th>\n",
       "      <th>Percent of Students Chronically Absent</th>\n",
       "    </tr>\n",
       "  </thead>\n",
       "  <tbody>\n",
       "    <tr>\n",
       "      <th>count</th>\n",
       "      <td>1247.000000</td>\n",
       "      <td>1217.000000</td>\n",
       "      <td>1217.000000</td>\n",
       "      <td>1247.000000</td>\n",
       "      <td>1247.000000</td>\n",
       "      <td>1247.000000</td>\n",
       "    </tr>\n",
       "    <tr>\n",
       "      <th>mean</th>\n",
       "      <td>0.672281</td>\n",
       "      <td>2.534215</td>\n",
       "      <td>2.668956</td>\n",
       "      <td>0.904226</td>\n",
       "      <td>0.830914</td>\n",
       "      <td>0.215750</td>\n",
       "    </tr>\n",
       "    <tr>\n",
       "      <th>std</th>\n",
       "      <td>0.210959</td>\n",
       "      <td>0.363589</td>\n",
       "      <td>0.470470</td>\n",
       "      <td>0.061228</td>\n",
       "      <td>0.062786</td>\n",
       "      <td>0.140716</td>\n",
       "    </tr>\n",
       "    <tr>\n",
       "      <th>min</th>\n",
       "      <td>0.049000</td>\n",
       "      <td>1.810000</td>\n",
       "      <td>1.830000</td>\n",
       "      <td>0.000000</td>\n",
       "      <td>0.000000</td>\n",
       "      <td>0.000000</td>\n",
       "    </tr>\n",
       "    <tr>\n",
       "      <th>25%</th>\n",
       "      <td>0.550000</td>\n",
       "      <td>2.250000</td>\n",
       "      <td>2.300000</td>\n",
       "      <td>0.870000</td>\n",
       "      <td>0.800000</td>\n",
       "      <td>0.110000</td>\n",
       "    </tr>\n",
       "    <tr>\n",
       "      <th>50%</th>\n",
       "      <td>0.731000</td>\n",
       "      <td>2.450000</td>\n",
       "      <td>2.580000</td>\n",
       "      <td>0.920000</td>\n",
       "      <td>0.830000</td>\n",
       "      <td>0.200000</td>\n",
       "    </tr>\n",
       "    <tr>\n",
       "      <th>75%</th>\n",
       "      <td>0.841000</td>\n",
       "      <td>2.760000</td>\n",
       "      <td>2.980000</td>\n",
       "      <td>0.940000</td>\n",
       "      <td>0.870000</td>\n",
       "      <td>0.300000</td>\n",
       "    </tr>\n",
       "    <tr>\n",
       "      <th>max</th>\n",
       "      <td>0.957000</td>\n",
       "      <td>3.930000</td>\n",
       "      <td>4.200000</td>\n",
       "      <td>1.000000</td>\n",
       "      <td>0.990000</td>\n",
       "      <td>1.000000</td>\n",
       "    </tr>\n",
       "  </tbody>\n",
       "</table>\n",
       "</div>"
      ],
      "text/plain": [
       "       Economic Need Index  Average ELA Proficiency  Average Math Proficiency  \\\n",
       "count          1247.000000              1217.000000               1217.000000   \n",
       "mean              0.672281                 2.534215                  2.668956   \n",
       "std               0.210959                 0.363589                  0.470470   \n",
       "min               0.049000                 1.810000                  1.830000   \n",
       "25%               0.550000                 2.250000                  2.300000   \n",
       "50%               0.731000                 2.450000                  2.580000   \n",
       "75%               0.841000                 2.760000                  2.980000   \n",
       "max               0.957000                 3.930000                  4.200000   \n",
       "\n",
       "           Trust %  Strong Family-Community Ties %  \\\n",
       "count  1247.000000                     1247.000000   \n",
       "mean      0.904226                        0.830914   \n",
       "std       0.061228                        0.062786   \n",
       "min       0.000000                        0.000000   \n",
       "25%       0.870000                        0.800000   \n",
       "50%       0.920000                        0.830000   \n",
       "75%       0.940000                        0.870000   \n",
       "max       1.000000                        0.990000   \n",
       "\n",
       "       Percent of Students Chronically Absent  \n",
       "count                             1247.000000  \n",
       "mean                                 0.215750  \n",
       "std                                  0.140716  \n",
       "min                                  0.000000  \n",
       "25%                                  0.110000  \n",
       "50%                                  0.200000  \n",
       "75%                                  0.300000  \n",
       "max                                  1.000000  "
      ]
     },
     "execution_count": 86,
     "metadata": {},
     "output_type": "execute_result"
    }
   ],
   "source": [
    "print(\"\\nSummary Statistics\")\n",
    "relevant_columns_table.describe()"
   ]
  },
  {
   "cell_type": "markdown",
   "id": "0cea616e",
   "metadata": {},
   "source": [
    "Economic need index: The mean is very high, meaning many students rely on some type of government assistance. Additionally, the 25 percent distribution mark shows that over seventy five percent of schools have students with an economic need index of over 0.55, indicating outliers are bringing this statistic down. This means a majority of students rely on some sort of government assistance, meaning they are from lower income households. \n",
    "\n",
    "Average ELA Proficiency: 75% distribution mark is not a passing grade, meaning the vast majority of students are not proficient in ELA (reading).\n",
    "\n",
    "Average Math Proficiency: 75% distribution mark is slightly better than that of ELA, possibly due to english language learners being a sizeable portion of the school. However, it still indicates that more than three fourths of students are not proficient in mathematics. \n",
    "\n",
    "Trust %: Generally fairly high trust in schools and its teachers with around ninety percent and not much deviation. Could be influenced by bias as its plausible that people with high trust in the school would be more inclined to take the survey.\n",
    "\n",
    "Strong Family-Community Ties %: generally high family-community ties with low deviation from the high mean. Could be influenced through bias in the way the data is collected. Surveys could have been answered by peopke who feel more connected to the school and community. "
   ]
  },
  {
   "cell_type": "code",
   "execution_count": 79,
   "id": "3be5df72",
   "metadata": {},
   "outputs": [
    {
     "name": "stdout",
     "output_type": "stream",
     "text": [
      "\n",
      "Chronic Absence Rate Summary Statistics for Lower Income Schools\n",
      "count    751.000000\n",
      "mean       0.271971\n",
      "std        0.140158\n",
      "min        0.000000\n",
      "25%        0.180000\n",
      "50%        0.270000\n",
      "75%        0.350000\n",
      "max        1.000000\n"
     ]
    }
   ],
   "source": [
    "#create table for chronic absence rate summary statistics for lower income schools\n",
    "lower_income_schools = relevant_columns_table[relevant_columns_table['Economic Need Index'] > relevant_columns_table['Economic Need Index'].mean()]\n",
    "chronic_absence_lower_income = lower_income_schools['Percent of Students Chronically Absent'].describe()\n",
    "print(\"\\nChronic Absence Rate Summary Statistics for Lower Income Schools\")\n",
    "print(chronic_absence_lower_income.to_string(index=True))"
   ]
  },
  {
   "cell_type": "markdown",
   "id": "01d72817",
   "metadata": {},
   "source": [
    "This data suggests that students with greater economic need have a higher rate of chronic absenteeism. The mean of lower income chronically absent students is higher, as well as the 25%, 50%, and 75% distributions, leading to the conclusion that outliers are not skewing this data, and lower income students have higher rates of chronic absenteeism. The data shows that one fourth of schools with students that on average have lower than the average in New York City have a chronic absentee rating of thirty five percent, a surprisingly large number. This means that thirty five percent of students in those schools are absent for more than ten percent of school days per year. \n",
    "\n",
    "EDIT THIS"
   ]
  },
  {
   "cell_type": "code",
   "execution_count": 80,
   "id": "56bc3cfb",
   "metadata": {},
   "outputs": [
    {
     "name": "stdout",
     "output_type": "stream",
     "text": [
      "\n",
      "Chronic Absence Rates Summary Statistics for Schools with below median math and ELA Scores\n",
      "count    749.000000\n",
      "mean       0.268131\n",
      "std        0.109411\n",
      "min        0.000000\n",
      "25%        0.190000\n",
      "50%        0.260000\n",
      "75%        0.350000\n",
      "max        0.740000\n"
     ]
    }
   ],
   "source": [
    "#create table for chronic absence rate summary statistics for schools with average scores of 2 or below of math and ELA exams\n",
    "schools_under_proficiency = relevant_columns_table[relevant_columns_table['Average ELA Proficiency'] <= 2.58]\n",
    "chronic_absence_under_proficiency = schools_under_proficiency['Percent of Students Chronically Absent'].describe()\n",
    "print(\"\\nChronic Absence Rates Summary Statistics for Schools with below median math and ELA Scores\")\n",
    "print(chronic_absence_under_proficiency.to_string(index=True))"
   ]
  },
  {
   "cell_type": "markdown",
   "id": "6fa9bdd7",
   "metadata": {},
   "source": [
    "The data shows chronic absenteeism is more common in schools with students who score, on average, lower than other New York City public schools. These rates are very similar to the "
   ]
  },
  {
   "cell_type": "markdown",
   "id": "23e5ac19",
   "metadata": {},
   "source": [
    "## Plots, Histograms, Figures"
   ]
  },
  {
   "cell_type": "code",
   "execution_count": null,
   "id": "bb259118",
   "metadata": {},
   "outputs": [],
   "source": []
  },
  {
   "cell_type": "code",
   "execution_count": null,
   "id": "0d4e2739",
   "metadata": {},
   "outputs": [],
   "source": []
  }
 ],
 "metadata": {
  "kernelspec": {
   "display_name": "Python 3 (ipykernel)",
   "language": "python",
   "name": "python3"
  },
  "language_info": {
   "codemirror_mode": {
    "name": "ipython",
    "version": 3
   },
   "file_extension": ".py",
   "mimetype": "text/x-python",
   "name": "python",
   "nbconvert_exporter": "python",
   "pygments_lexer": "ipython3",
   "version": "3.11.6"
  }
 },
 "nbformat": 4,
 "nbformat_minor": 5
}
